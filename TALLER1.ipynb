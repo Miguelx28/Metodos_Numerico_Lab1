{
 "cells": [
  {
   "cell_type": "markdown",
   "id": "bed36881",
   "metadata": {},
   "source": "# TALLER 1 - METODOS NUMÉRICOS HOla como estas"
  }
 ],
 "metadata": {
  "language_info": {
   "name": "python"
  }
 },
 "nbformat": 4,
 "nbformat_minor": 5
}
